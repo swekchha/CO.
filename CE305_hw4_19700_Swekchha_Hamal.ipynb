{
  "nbformat": 4,
  "nbformat_minor": 0,
  "metadata": {
    "colab": {
      "provenance": []
    },
    "kernelspec": {
      "name": "python3",
      "display_name": "Python 3"
    },
    "language_info": {
      "name": "python"
    }
  },
  "cells": [
    {
      "cell_type": "code",
      "execution_count": null,
      "metadata": {
        "id": "7z9UIOcet-qF"
      },
      "outputs": [],
      "source": [
        "#Question 1. #since running code in assembly website took one code at a time , providing the doc of codes in google collab as .ipynb.\n",
        "ORG 100 / Set starting address\n",
        " Load H / Load the ASCII value of 'H'\n",
        " Output / Output 'H'\n",
        " Load e / Load the ASCII value of 'e'\n",
        " Output / Output 'e'\n",
        " Load l / Load the ASCII value of 'l'\n",
        " Output / Output 'l'\n",
        " Load l / Load the ASCII value of 'l' again\n",
        " Output / Output 'l'\n",
        " Load o / Load the ASCII value of 'o'\n",
        " Output / Output 'o'\n",
        " Halt / End of the program\n",
        "H, DEC 72 / ASCII value of 'H'\n",
        "e, DEC 101 / ASCII value of 'e'\n",
        "l, DEC 108 / ASCII value of 'l'\n",
        "o, DEC 111 / ASCII value of 'o'\n"
      ]
    },
    {
      "cell_type": "code",
      "source": [
        "#Question 2.\n",
        "ORG 100\n",
        "Load x\n",
        "store x\n",
        "Loop, Load x\n",
        " Subt f\n",
        " Skipcond 000\n",
        " Jump ENDLOOP\n",
        " Load x\n",
        " Subt t\n",
        " Skipcond 400\n",
        " Jump Loop1\n",
        " Jump ENDLOOP\n",
        "Loop1, Load x\n",
        "Output\n",
        "Add one\n",
        "store x\n",
        "Jump Loop\n",
        "ENDLOOP, Halt\n",
        "x, DEC 0\n",
        "t, DEC 3\n",
        "one, DEC 1\n",
        "f, DEC 5\n",
        "END 100\n"
      ],
      "metadata": {
        "id": "CnS1f5APvC6y"
      },
      "execution_count": null,
      "outputs": []
    },
    {
      "cell_type": "code",
      "source": [
        "#Question 3.\n",
        "ORG 100\n",
        "Load x\n",
        "Store x\n",
        "Loop, Load x\n",
        " Subt f\n",
        " Skipcond 000\n",
        " Jump ENDLOOP\n",
        " Load x\n",
        " Subt t\n",
        " Skipcond 400\n",
        " Jump Loop1\n",
        " Jump Continue\n",
        " Output\n",
        "Loop1, Load x\n",
        " Output\n",
        " Add o\n",
        " Store x\n",
        " Jump Loop\n",
        "ENDLOOP, Halt\n",
        "Continue, Load x\n",
        " Add o\n",
        " Store x\n",
        " Jump Loop\n",
        "x, Dec 0\n",
        "t, Dec 3\n",
        "o, Dec 1\n",
        "f, DEC 5\n",
        "END 100\n"
      ],
      "metadata": {
        "id": "BguV4prevFZb"
      },
      "execution_count": null,
      "outputs": []
    },
    {
      "cell_type": "code",
      "source": [
        "#Question 4.\n",
        "ORG 100 / Start at address 100\n",
        "INPUT\n",
        "Store m\n",
        "Input\n",
        "Store n\n",
        "loop, Load m\n",
        " add multiply\n",
        " store multiply\n",
        " load n\n",
        " subt one\n",
        " store n\n",
        " skipcond 400\n",
        " jump loop\n",
        " load multiply\n",
        " output\n",
        "\n",
        "halt\n",
        "m,dec 0\n",
        "n,dec 0\n",
        "one, Dec 1\n",
        "multiply, dec 0\n",
        "End 100\n",
        "OUTPUT:\n",
        "Input is 3 and 4\n"
      ],
      "metadata": {
        "id": "McmYrLSuvHO9"
      },
      "execution_count": null,
      "outputs": []
    }
  ]
}